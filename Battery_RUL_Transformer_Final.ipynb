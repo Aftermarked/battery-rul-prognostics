{
 "cells": [
  {
   "cell_type": "markdown",
   "id": "a3337b71",
   "metadata": {},
   "source": [
    "# Battery RUL Estimation using AI Methods\n",
    "This notebook follows the course workflow and uses the provided dataset for RUL prediction with a Transformer-based model."
   ]
  },
  {
   "cell_type": "code",
   "execution_count": null,
   "id": "1c55f0d7",
   "metadata": {},
   "outputs": [],
   "source": [
    "\n",
    "import pandas as pd\n",
    "import numpy as np\n",
    "import matplotlib.pyplot as plt\n",
    "import tensorflow as tf\n",
    "\n",
    "# Load dataset\n",
    "url = 'https://raw.githubusercontent.com/Aftermarked/battery-rul-prognostics/main/Battery_RUL.csv'\n",
    "df = pd.read_csv(url)\n",
    "df.head()\n"
   ]
  },
  {
   "cell_type": "code",
   "execution_count": null,
   "id": "6556a322",
   "metadata": {},
   "outputs": [],
   "source": [
    "\n",
    "# Data filtering (based on instructions)\n",
    "df = df[(df['F1'] > 500) & (df['F1'] < 2500)]\n",
    "df = df[(df['F5'] > 3.7) & (df['F5'] < 4.1)]\n",
    "df = df[df['F6'] < 4.05]\n",
    "df = df[df['F3'] < 7000]\n",
    "\n",
    "# Interpolation of missing values\n",
    "df.interpolate(method='linear', inplace=True)\n",
    "df.dropna(inplace=True)\n",
    "\n",
    "# Min-max normalization\n",
    "min_ = df.min()\n",
    "max_ = df.max()\n",
    "df_norm = (df - min_) / (max_ - min_)\n",
    "\n",
    "# Features and target\n",
    "X = df_norm.drop(columns=['Cycle Index', 'RUL']).values\n",
    "y = df_norm['RUL'].values\n"
   ]
  },
  {
   "cell_type": "code",
   "execution_count": null,
   "id": "d3fd51de",
   "metadata": {},
   "outputs": [],
   "source": [
    "\n",
    "# Reshape for sequence input: [samples, timesteps, features]\n",
    "# Assuming window of 20 steps\n",
    "sequence_length = 20\n",
    "X_seq, y_seq = [], []\n",
    "\n",
    "for i in range(len(X) - sequence_length):\n",
    "    X_seq.append(X[i:i+sequence_length])\n",
    "    y_seq.append(y[i+sequence_length])\n",
    "\n",
    "X_seq = np.array(X_seq)\n",
    "y_seq = np.array(y_seq)\n",
    "\n",
    "# Train/test split\n",
    "split = int(len(X_seq) * 0.8)\n",
    "x_train, x_test = X_seq[:split], X_seq[split:]\n",
    "y_train, y_test = y_seq[:split], y_seq[split:]\n"
   ]
  },
  {
   "cell_type": "code",
   "execution_count": null,
   "id": "52e37746",
   "metadata": {},
   "outputs": [],
   "source": [
    "\n",
    "input_layer = tf.keras.layers.Input(shape=x_train.shape[1:])\n",
    "mha = tf.keras.layers.MultiHeadAttention(num_heads=4, key_dim=100)(input_layer, input_layer)\n",
    "conv1d = tf.keras.layers.Conv1D(filters=100, kernel_size=3, padding='same', activation='relu')(mha)\n",
    "dropout = tf.keras.layers.Dropout(rate=0.2)(conv1d)\n",
    "flatten = tf.keras.layers.Flatten()(dropout)\n",
    "output_layer = tf.keras.layers.Dense(units=1, activation='linear')(flatten)\n",
    "\n",
    "model = tf.keras.Model(inputs=input_layer, outputs=output_layer)\n",
    "model.compile(optimizer=tf.keras.optimizers.Adam(learning_rate=5e-5, decay=1e-5), loss='mse', metrics=['mae'])\n"
   ]
  },
  {
   "cell_type": "code",
   "execution_count": null,
   "id": "85452cfa",
   "metadata": {},
   "outputs": [],
   "source": [
    "\n",
    "es = tf.keras.callbacks.EarlyStopping(monitor='val_loss', patience=5, verbose=0, mode='min')\n",
    "history = model.fit(x_train, y_train, epochs=20, batch_size=32, callbacks=[es], validation_split=0.2)\n"
   ]
  },
  {
   "cell_type": "code",
   "execution_count": null,
   "id": "2f179da8",
   "metadata": {},
   "outputs": [],
   "source": [
    "\n",
    "yp_test = model.predict(x_test)\n",
    "yp_test = yp_test * (max_['RUL'] - min_['RUL']) + min_['RUL']\n",
    "y_test = y_test * (max_['RUL'] - min_['RUL']) + min_['RUL']\n",
    "\n",
    "plt.plot(yp_test, label='Pred')\n",
    "plt.plot(y_test, label='Meas')\n",
    "plt.xlim(0, 820)\n",
    "plt.ylim(70, 92)\n",
    "plt.xlabel('Cycle Index')\n",
    "plt.ylabel('SOH (%)')\n",
    "plt.legend()\n",
    "plt.grid(True)\n",
    "plt.title(\"Prediction vs Measurement\")\n",
    "plt.show()\n"
   ]
  },
  {
   "cell_type": "code",
   "execution_count": null,
   "id": "dbb47c84",
   "metadata": {},
   "outputs": [],
   "source": [
    "\n",
    "epoch = history.epoch\n",
    "train_loss = history.history['loss']\n",
    "val_loss = history.history['val_loss']\n",
    "\n",
    "plt.figure(figsize=(10, 4))\n",
    "plt.subplot(1, 2, 1)\n",
    "plt.plot(epoch, train_loss)\n",
    "plt.title(\"Training Loss\")\n",
    "\n",
    "plt.subplot(1, 2, 2)\n",
    "plt.plot(epoch, val_loss)\n",
    "plt.title(\"Validation Loss\")\n",
    "\n",
    "plt.tight_layout()\n",
    "plt.show()\n"
   ]
  }
 ],
 "metadata": {},
 "nbformat": 4,
 "nbformat_minor": 5
}
