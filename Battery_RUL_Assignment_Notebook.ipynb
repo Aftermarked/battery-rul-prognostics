{
 "cells": [
  {
   "cell_type": "markdown",
   "id": "b086af64",
   "metadata": {},
   "source": [
    "# Battery RUL Estimation using AI Methods\n",
    "This notebook performs data preprocessing, EDA, feature engineering, model development, and evaluation."
   ]
  },
  {
   "cell_type": "code",
   "execution_count": null,
   "id": "36848a52",
   "metadata": {},
   "outputs": [],
   "source": [
    "\n",
    "import pandas as pd\n",
    "import numpy as np\n",
    "import matplotlib.pyplot as plt\n",
    "import seaborn as sns\n",
    "from sklearn.preprocessing import MinMaxScaler\n",
    "from sklearn.decomposition import PCA\n",
    "from sklearn.model_selection import train_test_split\n",
    "import tensorflow as tf\n",
    "\n",
    "# Load dataset\n",
    "df = pd.read_csv('/mnt/data/Battery_RUL.csv')\n",
    "df.head()\n"
   ]
  },
  {
   "cell_type": "code",
   "execution_count": null,
   "id": "7a92887c",
   "metadata": {},
   "outputs": [],
   "source": [
    "\n",
    "# Apply filtering based on constraints\n",
    "df = df[(df['F1'] > 500) & (df['F1'] < 2500)]\n",
    "df = df[(df['F5'] > 3.7) & (df['F5'] < 4.1)]\n",
    "df = df[df['F6'] < 4.05]\n",
    "df = df[df['F3'] < 7000]\n",
    "\n",
    "# Fill missing values via linear interpolation\n",
    "df.interpolate(method='linear', inplace=True)\n",
    "df.dropna(inplace=True)\n",
    "df.reset_index(drop=True, inplace=True)\n"
   ]
  },
  {
   "cell_type": "code",
   "execution_count": null,
   "id": "75e42c8a",
   "metadata": {},
   "outputs": [],
   "source": [
    "\n",
    "def exponential_moving_average(data, alpha=0.5):\n",
    "    result = [data[0]]\n",
    "    for val in data[1:]:\n",
    "        result.append(alpha * val + (1 - alpha) * result[-1])\n",
    "    return result\n",
    "\n",
    "for col in ['F1', 'F2', 'F3', 'F4', 'F5', 'F6', 'F7', 'Total Time(s)']:\n",
    "    df[col] = exponential_moving_average(df[col].values)\n"
   ]
  },
  {
   "cell_type": "code",
   "execution_count": null,
   "id": "9771f975",
   "metadata": {},
   "outputs": [],
   "source": [
    "\n",
    "features = df.columns.drop(['Cycle Index', 'RUL'])\n",
    "scaler = MinMaxScaler()\n",
    "df_scaled = df.copy()\n",
    "df_scaled[features] = scaler.fit_transform(df_scaled[features])\n"
   ]
  },
  {
   "cell_type": "code",
   "execution_count": null,
   "id": "15e2929b",
   "metadata": {},
   "outputs": [],
   "source": [
    "\n",
    "# Correlation matrix\n",
    "plt.figure(figsize=(10, 8))\n",
    "sns.heatmap(df_scaled.corr(), annot=True, cmap='coolwarm')\n",
    "plt.title(\"Correlation Heatmap\")\n",
    "plt.show()\n"
   ]
  },
  {
   "cell_type": "code",
   "execution_count": null,
   "id": "ba34f9e5",
   "metadata": {},
   "outputs": [],
   "source": [
    "\n",
    "pca = PCA(n_components=5)\n",
    "X_pca = pca.fit_transform(df_scaled[features])\n",
    "plt.plot(np.cumsum(pca.explained_variance_ratio_))\n",
    "plt.xlabel(\"Number of Components\")\n",
    "plt.ylabel(\"Explained Variance\")\n",
    "plt.title(\"PCA - Explained Variance\")\n",
    "plt.grid(True)\n",
    "plt.show()\n"
   ]
  },
  {
   "cell_type": "code",
   "execution_count": null,
   "id": "143946b3",
   "metadata": {},
   "outputs": [],
   "source": [
    "\n",
    "X = df_scaled[features].values.reshape(-1, len(features), 1)\n",
    "y = df_scaled['RUL'].values\n",
    "\n",
    "X_train, X_temp, y_train, y_temp = train_test_split(X, y, test_size=0.3, random_state=42)\n",
    "X_val, X_test, y_val, y_test = train_test_split(X_temp, y_temp, test_size=0.5, random_state=42)\n"
   ]
  },
  {
   "cell_type": "code",
   "execution_count": null,
   "id": "f1c5a79f",
   "metadata": {},
   "outputs": [],
   "source": [
    "\n",
    "input_layer = tf.keras.layers.Input(shape=X_train.shape[1:])\n",
    "x = tf.keras.layers.MultiHeadAttention(num_heads=2, key_dim=32)(input_layer, input_layer)\n",
    "x = tf.keras.layers.Conv1D(64, 3, padding='same', activation='relu')(x)\n",
    "x = tf.keras.layers.Flatten()(x)\n",
    "x = tf.keras.layers.Dropout(0.2)(x)\n",
    "output = tf.keras.layers.Dense(1, activation='linear')(x)\n",
    "\n",
    "model = tf.keras.Model(inputs=input_layer, outputs=output)\n",
    "model.compile(optimizer=tf.keras.optimizers.Adam(1e-4), loss='mse', metrics=['mae'])\n",
    "\n",
    "history = model.fit(X_train, y_train, validation_data=(X_val, y_val),\n",
    "                    epochs=30, batch_size=32, callbacks=[\n",
    "                        tf.keras.callbacks.EarlyStopping(monitor='val_loss', patience=5)\n",
    "                    ])\n"
   ]
  },
  {
   "cell_type": "code",
   "execution_count": null,
   "id": "c0ca8f91",
   "metadata": {},
   "outputs": [],
   "source": [
    "\n",
    "y_pred = model.predict(X_test).flatten()\n",
    "\n",
    "plt.figure()\n",
    "plt.plot(y_pred, label='Predicted RUL')\n",
    "plt.plot(y_test, label='Actual RUL')\n",
    "plt.legend()\n",
    "plt.title(\"Predicted vs Actual RUL\")\n",
    "plt.grid(True)\n",
    "plt.show()\n",
    "\n",
    "from sklearn.metrics import mean_absolute_error, mean_squared_error\n",
    "mae = mean_absolute_error(y_test, y_pred)\n",
    "rmse = mean_squared_error(y_test, y_pred, squared=False)\n",
    "\n",
    "print(f\"MAE: {mae:.4f}\")\n",
    "print(f\"RMSE: {rmse:.4f}\")\n"
   ]
  }
 ],
 "metadata": {},
 "nbformat": 4,
 "nbformat_minor": 5
}
